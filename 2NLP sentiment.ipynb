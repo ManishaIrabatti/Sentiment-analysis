{
 "cells": [
  {
   "cell_type": "code",
   "execution_count": 1,
   "id": "9c024b0a",
   "metadata": {},
   "outputs": [],
   "source": [
    "#c:\\users\\shree\\appdata\\roaming\\python\\python39\\site-packages \n",
    "from nltk.corpus import stopwords\n",
    "#import tensorflow_hub as hub\n",
    "import tensorflow as tf\n",
    "from keras.preprocessing.text import one_hot,Tokenizer\n",
    "from keras.models import Sequential\n",
    "from keras.layers.core import Activation,Dropout,Dense\n",
    "from keras.layers import Flatten,GlobalMaxPooling1D,Embedding,Conv1D,LSTM\n",
    "import string\n",
    "from sklearn.feature_extraction.text import TfidfVectorizer\n",
    "from sklearn.pipeline import Pipeline\n",
    "from sklearn.model_selection import train_test_split\n",
    "from nltk.tokenize import word_tokenize\n",
    "import pandas as pd\n",
    "import numpy as np\n",
    "import seaborn as sns\n",
    "import matplotlib.pyplot as plt"
   ]
  },
  {
   "cell_type": "code",
   "execution_count": 2,
   "id": "458011e8",
   "metadata": {},
   "outputs": [
    {
     "data": {
      "text/html": [
       "<div>\n",
       "<style scoped>\n",
       "    .dataframe tbody tr th:only-of-type {\n",
       "        vertical-align: middle;\n",
       "    }\n",
       "\n",
       "    .dataframe tbody tr th {\n",
       "        vertical-align: top;\n",
       "    }\n",
       "\n",
       "    .dataframe thead th {\n",
       "        text-align: right;\n",
       "    }\n",
       "</style>\n",
       "<table border=\"1\" class=\"dataframe\">\n",
       "  <thead>\n",
       "    <tr style=\"text-align: right;\">\n",
       "      <th></th>\n",
       "      <th>review</th>\n",
       "      <th>rating</th>\n",
       "    </tr>\n",
       "  </thead>\n",
       "  <tbody>\n",
       "    <tr>\n",
       "      <th>0</th>\n",
       "      <td>Poor quality</td>\n",
       "      <td>1</td>\n",
       "    </tr>\n",
       "    <tr>\n",
       "      <th>1</th>\n",
       "      <td>Product quality is not branded and and box</td>\n",
       "      <td>1</td>\n",
       "    </tr>\n",
       "    <tr>\n",
       "      <th>2</th>\n",
       "      <td>Do not purchase this item</td>\n",
       "      <td>1</td>\n",
       "    </tr>\n",
       "    <tr>\n",
       "      <th>3</th>\n",
       "      <td>Just awesome product 👌👍🫡😇Value for money 💸💰 pr...</td>\n",
       "      <td>5</td>\n",
       "    </tr>\n",
       "    <tr>\n",
       "      <th>4</th>\n",
       "      <td>Do not purchase this item</td>\n",
       "      <td>1</td>\n",
       "    </tr>\n",
       "  </tbody>\n",
       "</table>\n",
       "</div>"
      ],
      "text/plain": [
       "                                              review  rating\n",
       "0                                       Poor quality       1\n",
       "1         Product quality is not branded and and box       1\n",
       "2                          Do not purchase this item       1\n",
       "3  Just awesome product 👌👍🫡😇Value for money 💸💰 pr...       5\n",
       "4                          Do not purchase this item       1"
      ]
     },
     "execution_count": 2,
     "metadata": {},
     "output_type": "execute_result"
    }
   ],
   "source": [
    "# export dataset as a csv file\n",
    "df=pd.read_csv(\"F:/project sent/NIKE DOWNSHIFTER 12.csv\")\n",
    "df.head()"
   ]
  },
  {
   "cell_type": "code",
   "execution_count": 3,
   "id": "b1f6b374",
   "metadata": {},
   "outputs": [
    {
     "name": "stdout",
     "output_type": "stream",
     "text": [
      "\n",
      " Shuffled DataFrame:\n"
     ]
    },
    {
     "data": {
      "text/html": [
       "<div>\n",
       "<style scoped>\n",
       "    .dataframe tbody tr th:only-of-type {\n",
       "        vertical-align: middle;\n",
       "    }\n",
       "\n",
       "    .dataframe tbody tr th {\n",
       "        vertical-align: top;\n",
       "    }\n",
       "\n",
       "    .dataframe thead th {\n",
       "        text-align: right;\n",
       "    }\n",
       "</style>\n",
       "<table border=\"1\" class=\"dataframe\">\n",
       "  <thead>\n",
       "    <tr style=\"text-align: right;\">\n",
       "      <th></th>\n",
       "      <th>review</th>\n",
       "      <th>rating</th>\n",
       "    </tr>\n",
       "  </thead>\n",
       "  <tbody>\n",
       "    <tr>\n",
       "      <th>571</th>\n",
       "      <td>Very good product</td>\n",
       "      <td>5</td>\n",
       "    </tr>\n",
       "    <tr>\n",
       "      <th>281</th>\n",
       "      <td>Very comfortable and nice look</td>\n",
       "      <td>5</td>\n",
       "    </tr>\n",
       "    <tr>\n",
       "      <th>1303</th>\n",
       "      <td>Loking so nice but size not fit 10 numb not pa...</td>\n",
       "      <td>2</td>\n",
       "    </tr>\n",
       "    <tr>\n",
       "      <th>848</th>\n",
       "      <td>Loking so nice but size not fit 10 numb not pa...</td>\n",
       "      <td>2</td>\n",
       "    </tr>\n",
       "    <tr>\n",
       "      <th>1297</th>\n",
       "      <td>Very comfortable and nice look</td>\n",
       "      <td>5</td>\n",
       "    </tr>\n",
       "  </tbody>\n",
       "</table>\n",
       "</div>"
      ],
      "text/plain": [
       "                                                 review  rating\n",
       "571                                   Very good product       5\n",
       "281                      Very comfortable and nice look       5\n",
       "1303  Loking so nice but size not fit 10 numb not pa...       2\n",
       "848   Loking so nice but size not fit 10 numb not pa...       2\n",
       "1297                     Very comfortable and nice look       5"
      ]
     },
     "execution_count": 3,
     "metadata": {},
     "output_type": "execute_result"
    }
   ],
   "source": [
    "# shuffle the DataFrame rows\n",
    "df = df.sample(frac = 1)\n",
    "\n",
    "# print the shuffled DataFrame\n",
    "print(\"\\n Shuffled DataFrame:\")\n",
    "df.head()"
   ]
  },
  {
   "cell_type": "code",
   "execution_count": 4,
   "id": "f75a9565",
   "metadata": {},
   "outputs": [
    {
     "data": {
      "image/png": "[encoded data removed]",
      "text/plain": [
       "<Figure size 432x288 with 1 Axes>"
      ]
     },
     "metadata": {
      "needs_background": "light"
     },
     "output_type": "display_data"
    }
   ],
   "source": [
    "sns.countplot(\n",
    "  x='rating',\n",
    "  data=df,\n",
    "  order=df.rating.value_counts().index\n",
    ")\n",
    "\n",
    "plt.xlabel(\"type\")\n",
    "plt.title(\"Review type\");"
   ]
  },
  {
   "cell_type": "code",
   "execution_count": 5,
   "id": "1513a7b8",
   "metadata": {},
   "outputs": [
    {
     "data": {
      "text/html": [
       "<div>\n",
       "<style scoped>\n",
       "    .dataframe tbody tr th:only-of-type {\n",
       "        vertical-align: middle;\n",
       "    }\n",
       "\n",
       "    .dataframe tbody tr th {\n",
       "        vertical-align: top;\n",
       "    }\n",
       "\n",
       "    .dataframe thead th {\n",
       "        text-align: right;\n",
       "    }\n",
       "</style>\n",
       "<table border=\"1\" class=\"dataframe\">\n",
       "  <thead>\n",
       "    <tr style=\"text-align: right;\">\n",
       "      <th></th>\n",
       "      <th>review</th>\n",
       "      <th>rating</th>\n",
       "    </tr>\n",
       "  </thead>\n",
       "  <tbody>\n",
       "    <tr>\n",
       "      <th>571</th>\n",
       "      <td>Very good product</td>\n",
       "      <td>1</td>\n",
       "    </tr>\n",
       "    <tr>\n",
       "      <th>281</th>\n",
       "      <td>Very comfortable and nice look</td>\n",
       "      <td>1</td>\n",
       "    </tr>\n",
       "    <tr>\n",
       "      <th>1303</th>\n",
       "      <td>Loking so nice but size not fit 10 numb not pa...</td>\n",
       "      <td>0</td>\n",
       "    </tr>\n",
       "    <tr>\n",
       "      <th>848</th>\n",
       "      <td>Loking so nice but size not fit 10 numb not pa...</td>\n",
       "      <td>0</td>\n",
       "    </tr>\n",
       "    <tr>\n",
       "      <th>1297</th>\n",
       "      <td>Very comfortable and nice look</td>\n",
       "      <td>1</td>\n",
       "    </tr>\n",
       "  </tbody>\n",
       "</table>\n",
       "</div>"
      ],
      "text/plain": [
       "                                                 review  rating\n",
       "571                                   Very good product       1\n",
       "281                      Very comfortable and nice look       1\n",
       "1303  Loking so nice but size not fit 10 numb not pa...       0\n",
       "848   Loking so nice but size not fit 10 numb not pa...       0\n",
       "1297                     Very comfortable and nice look       1"
      ]
     },
     "execution_count": 5,
     "metadata": {},
     "output_type": "execute_result"
    }
   ],
   "source": [
    "#0-negative,1-positive\n",
    "df.rating = [0 if int(i)<4 else 1 for i in df.rating]\n",
    "df.head(5)"
   ]
  },
  {
   "cell_type": "code",
   "execution_count": 6,
   "id": "8ae0a7ce",
   "metadata": {},
   "outputs": [
    {
     "data": {
      "text/plain": [
       "1    790\n",
       "0    790\n",
       "Name: rating, dtype: int64"
      ]
     },
     "execution_count": 6,
     "metadata": {},
     "output_type": "execute_result"
    }
   ],
   "source": [
    "df.rating.value_counts()"
   ]
  },
  {
   "cell_type": "code",
   "execution_count": 7,
   "id": "00f9873f",
   "metadata": {},
   "outputs": [
    {
     "data": {
      "text/plain": [
       "Text(0.5, 1.0, 'Review type')"
      ]
     },
     "execution_count": 7,
     "metadata": {},
     "output_type": "execute_result"
    },
    {
     "data": {
      "image/png": "[encoded data removed]",
      "text/plain": [
       "<Figure size 432x288 with 1 Axes>"
      ]
     },
     "metadata": {
      "needs_background": "light"
     },
     "output_type": "display_data"
    }
   ],
   "source": [
    "sns.countplot(\n",
    "  x='rating',\n",
    "  data=df,\n",
    "  order=df.rating.value_counts().index\n",
    ")\n",
    "\n",
    "plt.xlabel(\"type\")\n",
    "plt.title(\"Review type\")"
   ]
  },
  {
   "cell_type": "code",
   "execution_count": 8,
   "id": "55c31834",
   "metadata": {},
   "outputs": [
    {
     "data": {
      "text/html": [
       "<div>\n",
       "<style scoped>\n",
       "    .dataframe tbody tr th:only-of-type {\n",
       "        vertical-align: middle;\n",
       "    }\n",
       "\n",
       "    .dataframe tbody tr th {\n",
       "        vertical-align: top;\n",
       "    }\n",
       "\n",
       "    .dataframe thead th {\n",
       "        text-align: right;\n",
       "    }\n",
       "</style>\n",
       "<table border=\"1\" class=\"dataframe\">\n",
       "  <thead>\n",
       "    <tr style=\"text-align: right;\">\n",
       "      <th></th>\n",
       "      <th>review</th>\n",
       "      <th>rating</th>\n",
       "    </tr>\n",
       "  </thead>\n",
       "  <tbody>\n",
       "    <tr>\n",
       "      <th>571</th>\n",
       "      <td>Very good product</td>\n",
       "      <td>1</td>\n",
       "    </tr>\n",
       "    <tr>\n",
       "      <th>281</th>\n",
       "      <td>Very comfortable and nice look</td>\n",
       "      <td>1</td>\n",
       "    </tr>\n",
       "    <tr>\n",
       "      <th>1303</th>\n",
       "      <td>Loking so nice but size not fit 10 numb not pa...</td>\n",
       "      <td>0</td>\n",
       "    </tr>\n",
       "    <tr>\n",
       "      <th>848</th>\n",
       "      <td>Loking so nice but size not fit 10 numb not pa...</td>\n",
       "      <td>0</td>\n",
       "    </tr>\n",
       "    <tr>\n",
       "      <th>1297</th>\n",
       "      <td>Very comfortable and nice look</td>\n",
       "      <td>1</td>\n",
       "    </tr>\n",
       "  </tbody>\n",
       "</table>\n",
       "</div>"
      ],
      "text/plain": [
       "                                                 review  rating\n",
       "571                                   Very good product       1\n",
       "281                      Very comfortable and nice look       1\n",
       "1303  Loking so nice but size not fit 10 numb not pa...       0\n",
       "848   Loking so nice but size not fit 10 numb not pa...       0\n",
       "1297                     Very comfortable and nice look       1"
      ]
     },
     "execution_count": 8,
     "metadata": {},
     "output_type": "execute_result"
    }
   ],
   "source": [
    "df.head()"
   ]
  },
  {
   "cell_type": "code",
   "execution_count": 9,
   "id": "f88cbe8a",
   "metadata": {},
   "outputs": [],
   "source": [
    "positive_reviews = df[df.rating == 1]\n",
    "negative_reviews = df[df.rating== 0]"
   ]
  },
  {
   "cell_type": "code",
   "execution_count": 10,
   "id": "71414163",
   "metadata": {},
   "outputs": [
    {
     "name": "stdout",
     "output_type": "stream",
     "text": [
      "(790, 2) (790, 2)\n"
     ]
    }
   ],
   "source": [
    "print(positive_reviews.shape, negative_reviews.shape)"
   ]
  },
  {
   "cell_type": "markdown",
   "id": "ffa1fa4d",
   "metadata": {},
   "source": [
    "from wordcloud import WordCloud,STOPWORDS,ImageColorGenerator\n",
    "positive_reviews_text = \" \".join(positive_reviews.review.to_numpy().tolist())\n",
    "negative_reviews_text = \" \".join(negative_reviews.review.to_numpy().tolist())\n",
    "\n",
    "positive_reviews_cloud = WordCloud(stopwords=STOPWORDS, background_color=\"black\").generate(positive_reviews_text)\n",
    "negative_reviews_cloud = WordCloud(stopwords=STOPWORDS, background_color=\"black\").generate(negative_reviews_text)"
   ]
  },
  {
   "cell_type": "code",
   "execution_count": 11,
   "id": "718d92d8",
   "metadata": {},
   "outputs": [],
   "source": [
    "def show_word_cloud(cloud, title):\n",
    "    plt.figure(figsize = (20, 20))\n",
    "    plt.imshow(cloud, interpolation='bilinear')\n",
    "    plt.title(title)\n",
    "    plt.axis(\"off\")\n",
    "    plt.show();"
   ]
  },
  {
   "cell_type": "code",
   "execution_count": 12,
   "id": "ad07dae2",
   "metadata": {},
   "outputs": [
    {
     "ename": "NameError",
     "evalue": "name 'positive_reviews_cloud' is not defined",
     "output_type": "error",
     "traceback": [
      "\u001b[1;31m---------------------------------------------------------------------------\u001b[0m",
      "\u001b[1;31mNameError\u001b[0m                                 Traceback (most recent call last)",
      "Input \u001b[1;32mIn [12]\u001b[0m, in \u001b[0;36m<cell line: 1>\u001b[1;34m()\u001b[0m\n\u001b[1;32m----> 1\u001b[0m show_word_cloud(\u001b[43mpositive_reviews_cloud\u001b[49m, \u001b[38;5;124m\"\u001b[39m\u001b[38;5;124mCommon Words in Positive Reviews\u001b[39m\u001b[38;5;124m\"\u001b[39m)\n",
      "\u001b[1;31mNameError\u001b[0m: name 'positive_reviews_cloud' is not defined"
     ]
    }
   ],
   "source": [
    "show_word_cloud(positive_reviews_cloud, \"Common Words in Positive Reviews\")"
   ]
  },
  {
   "cell_type": "code",
   "execution_count": null,
   "id": "c40d9406",
   "metadata": {},
   "outputs": [],
   "source": [
    "show_word_cloud(negative_reviews_cloud, \"Common Words in Negative Reviews\")"
   ]
  },
  {
   "cell_type": "code",
   "execution_count": null,
   "id": "491ddc0b",
   "metadata": {},
   "outputs": [],
   "source": []
  },
  {
   "cell_type": "code",
   "execution_count": null,
   "id": "8ad39e4e",
   "metadata": {},
   "outputs": [],
   "source": [
    "y = df[\"rating\"]\n",
    "#train_test_split\n",
    "from sklearn.model_selection import train_test_split\n",
    "x_train,x_test,y_train,y_test=train_test_split(df['review'].values,df[\"rating\"].values,test_size=0.2)\n",
    "print(f\"Total training samples: {x_train.shape}\")\n",
    "print(f\"Total training samples: {y_train.shape}\")\n",
    "print(f\"Total training samples: {x_test.shape}\")\n",
    "print(f\"Total testing samples: {y_test.shape}\")\n",
    "print(\"review:\",x_train[580])\n",
    "print(\"rating:\",y_train[580])"
   ]
  },
  {
   "cell_type": "code",
   "execution_count": null,
   "id": "85f8c213",
   "metadata": {},
   "outputs": [],
   "source": [
    "#removing emoji's\n",
    "import re\n",
    "def remove_emojis(data):\n",
    "    emoj = re.compile(\"[\"\n",
    "        u\"\\U0001F600-\\U0001F64F\"  # emoticons\n",
    "        u\"\\U0001F300-\\U0001F5FF\"  # symbols & pictographs\n",
    "        u\"\\U0001F680-\\U0001F6FF\"  # transport & map symbols\n",
    "        u\"\\U0001F1E0-\\U0001F1FF\"  # flags (iOS)\n",
    "        u\"\\U00002500-\\U00002BEF\"  # chinese char\n",
    "        u\"\\U00002702-\\U000027B0\"\n",
    "        u\"\\U00002702-\\U000027B0\"\n",
    "        u\"\\U000024C2-\\U0001F251\"\n",
    "        u\"\\U0001f926-\\U0001f937\"\n",
    "        u\"\\U00010000-\\U0010ffff\"\n",
    "        u\"\\u2640-\\u2642\" \n",
    "        u\"\\u2600-\\u2B55\"\n",
    "        u\"\\u200d\"\n",
    "        u\"\\u23cf\"\n",
    "        u\"\\u23e9\"\n",
    "        u\"\\u231a\"\n",
    "        u\"\\ufe0f\"  # dingbats\n",
    "        u\"\\u3030\"\n",
    "                      \"]+\", re.UNICODE)\n",
    "    return re.sub(emoj, '', data)\n",
    "\n",
    "#applying function to the column\n",
    "df['emojifree']=df['review'].apply(lambda x:remove_emojis(x))\n",
    "df"
   ]
  },
  {
   "cell_type": "code",
   "execution_count": null,
   "id": "d4973729",
   "metadata": {},
   "outputs": [],
   "source": [
    "string.punctuation\n",
    "def remove_punctuation(reviews):\n",
    "    punctuationfree=''.join([i for i in reviews if i not in string.punctuation])\n",
    "    return punctuationfree\n",
    "df['clean_text']=df['emojifree'].apply(lambda x:remove_punctuation(x))\n",
    "df.head()"
   ]
  },
  {
   "cell_type": "code",
   "execution_count": null,
   "id": "ad70d36e",
   "metadata": {},
   "outputs": [],
   "source": [
    "#lowering case\n",
    "df['clean_text']=df['clean_text'].apply(lambda x:x.lower())\n",
    "df.head()"
   ]
  },
  {
   "cell_type": "code",
   "execution_count": null,
   "id": "9cf6f18c",
   "metadata": {},
   "outputs": [],
   "source": [
    "import nltk\n",
    "nltk.download(\"popular\")"
   ]
  },
  {
   "cell_type": "code",
   "execution_count": null,
   "id": "da57ab79",
   "metadata": {},
   "outputs": [],
   "source": [
    "#Stop words present in the library\n",
    "stopwords_english = nltk.corpus.stopwords.words('english')\n",
    "stopwords_english[0:10]"
   ]
  },
  {
   "cell_type": "code",
   "execution_count": null,
   "id": "0060e177",
   "metadata": {},
   "outputs": [],
   "source": [
    "# Exclude stopwords with Python's list comprehension and pandas.DataFrame.apply.\n",
    "stop = stopwords.words('english')\n",
    "df['cleantext'] = df['clean_text'].apply(lambda x: ' '.join([word for word in x.split() if word not in (stopwords_english)]))\n",
    "df.head()"
   ]
  },
  {
   "cell_type": "code",
   "execution_count": null,
   "id": "87014673",
   "metadata": {},
   "outputs": [],
   "source": [
    "import tensorflow as tf\n",
    "from tensorflow.keras.layers import TextVectorization\n",
    "text_vectorizer=TextVectorization(max_tokens=None,standardize='lower_and_strip_punctuation',split='whitespace',\n",
    "    ngrams=None,\n",
    "    output_mode='int',\n",
    "    output_sequence_length=None,)"
   ]
  },
  {
   "cell_type": "code",
   "execution_count": null,
   "id": "f6ae130a",
   "metadata": {},
   "outputs": [],
   "source": [
    "text_vectorizer.adapt(x_train)\n",
    "text_vectorizer(x_train)"
   ]
  },
  {
   "cell_type": "code",
   "execution_count": null,
   "id": "53cd8633",
   "metadata": {},
   "outputs": [],
   "source": [
    "# Get the unique words in the vocabulary\n",
    "words_in_vocab = text_vectorizer.get_vocabulary()\n",
    "top_5_words = words_in_vocab[:5] # most common tokens (notice the [UNK] token for \"unkno\n",
    "bottom_5_words = words_in_vocab[-5:] # least common tokens\n",
    "print(f\"Number of words in vocab: {len(words_in_vocab)}\")\n",
    "print(f\"Top 5 most common words: {top_5_words}\")\n",
    "print(f\"Bottom 5 least common words: {bottom_5_words}\")"
   ]
  },
  {
   "cell_type": "code",
   "execution_count": null,
   "id": "3dcb1e3a",
   "metadata": {},
   "outputs": [],
   "source": [
    "tf.random.set_seed(42)\n",
    "from tensorflow.keras import layers\n",
    "embedding = layers.Embedding(input_dim=10000, # set input shape\n",
    "output_dim=128, # set size of embedding vector\n",
    "embeddings_initializer=\"uniform\", # default, intialize rand\n",
    "input_length=14, # how long is each input\n",
    "name=\"embedding_1\")\n",
    "embedding"
   ]
  },
  {
   "cell_type": "code",
   "execution_count": null,
   "id": "2fe415bb",
   "metadata": {},
   "outputs": [],
   "source": [
    "# Get a random sentence from training set\n",
    "import random\n",
    "random_sentence = random.choice(x_train)\n",
    "print(f\"Original text:\\n{random_sentence}\\\n",
    "\\n\\nEmbedded version:\")\n",
    "# Embed the random sentence (turn it into numerical representation)\n",
    "sample_embed = embedding(text_vectorizer([random_sentence]))\n",
    "sample_embed"
   ]
  },
  {
   "cell_type": "code",
   "execution_count": null,
   "id": "ae36d285",
   "metadata": {},
   "outputs": [],
   "source": [
    "from sklearn.feature_extraction.text import TfidfVectorizer\n",
    "from sklearn.naive_bayes import MultinomialNB\n",
    "from sklearn.pipeline import Pipeline\n",
    "# Create tokenization and modelling pipeline\n",
    "model_0 = Pipeline([\n",
    "(\"tfidf\", TfidfVectorizer()), # convert words to numbers using tfidf\n",
    "(\"clf\", MultinomialNB()) # model the text\n",
    "])\n",
    "# Fit the pipeline to the training data\n",
    "model_0.fit(x_train, y_train)"
   ]
  },
  {
   "cell_type": "code",
   "execution_count": null,
   "id": "42b8d4d0",
   "metadata": {},
   "outputs": [],
   "source": [
    "baseline_score = model_0.score(x_test, y_test)\n",
    "print(f\"Our baseline model achieves an accuracy of: {baseline_score*100:.2f}%\")"
   ]
  },
  {
   "cell_type": "code",
   "execution_count": null,
   "id": "0ac55e50",
   "metadata": {},
   "outputs": [],
   "source": [
    "# Make predictions\n",
    "baseline_preds = model_0.predict(x_test)\n",
    "baseline_preds[:20]"
   ]
  },
  {
   "cell_type": "code",
   "execution_count": null,
   "id": "b70c95cc",
   "metadata": {},
   "outputs": [],
   "source": [
    "# Function to evaluate: accuracy, precision, recall, f1-score\n",
    "from sklearn.metrics import accuracy_score, precision_recall_fscore_support\n",
    "def calculate_results(y_true, y_pred):\n",
    "    model_accuracy = accuracy_score(y_true, y_pred) * 100\n",
    "    model_precision, model_recall, model_f1, _ = precision_recall_fscore_support(y_true, y_pred)\n",
    "    model_results = {\"accuracy\": model_accuracy,\"precision\": model_precision,\"recall\": model_recall,\"f1\": model_f1}\n",
    "    return model_results"
   ]
  },
  {
   "cell_type": "code",
   "execution_count": null,
   "id": "0786d067",
   "metadata": {},
   "outputs": [],
   "source": [
    "# Get baseline results\n",
    "baseline_results = calculate_results(y_true=y_test,y_pred=baseline_preds)\n",
    "baseline_results"
   ]
  },
  {
   "cell_type": "code",
   "execution_count": null,
   "id": "6aa9879e",
   "metadata": {},
   "outputs": [],
   "source": [
    "# Set random seed and create embedding layer (new embedding layer for each model)\n",
    "tf.random.set_seed(42)\n",
    "max_vocab_length=10000\n",
    "max_length=14\n",
    "from tensorflow.keras import layers\n",
    "model_4_embedding = layers.Embedding(input_dim=max_vocab_length,\n",
    "output_dim=128,\n",
    "embeddings_initializer=\"uniform\",\n",
    "input_length=max_length,\n",
    "name=\"embedding_4\")"
   ]
  },
  {
   "cell_type": "code",
   "execution_count": null,
   "id": "c4006008",
   "metadata": {},
   "outputs": [],
   "source": [
    "# Build a Bidirectional RNN in TensorFlow\n",
    "inputs = layers.Input(shape=(1,), dtype=\"string\")\n",
    "x = text_vectorizer(inputs)\n",
    "x = model_4_embedding(x)\n",
    "# x = layers.Bidirectional(layers.LSTM(64, return_sequences=True))(x) # stacking RNN lay\n",
    "x = layers.Bidirectional(layers.GRU(64))(x) # bidirectional goes both ways so has double\n",
    "outputs = layers.Dense(1, activation=\"sigmoid\")(x)\n",
    "model_4 = tf.keras.Model(inputs, outputs, name=\"model_4_Bidirectional\")"
   ]
  },
  {
   "cell_type": "code",
   "execution_count": null,
   "id": "44078e80",
   "metadata": {},
   "outputs": [],
   "source": [
    "# Compile\n",
    "model_4.compile(loss=\"binary_crossentropy\",\n",
    "optimizer=tf.keras.optimizers.Adam(),\n",
    "metrics=[\"accuracy\"])"
   ]
  },
  {
   "cell_type": "code",
   "execution_count": null,
   "id": "7e66876e",
   "metadata": {},
   "outputs": [],
   "source": [
    "# Get a summary of our bidirectional model\n",
    "model_4.summary()"
   ]
  },
  {
   "cell_type": "code",
   "execution_count": null,
   "id": "3ecca177",
   "metadata": {},
   "outputs": [],
   "source": [
    "# Fit the model (takes longer because of the bidirectional layers)\n",
    "model_4_history = model_4.fit(x_train,\n",
    "                              y_train,\n",
    "                              epochs=5,\n",
    "                              validation_data=(x_test, y_test))"
   ]
  },
  {
   "cell_type": "code",
   "execution_count": null,
   "id": "fe7b4c12",
   "metadata": {},
   "outputs": [],
   "source": [
    "# Make predictions with bidirectional RNN on the validation data\n",
    "model_4_pred_probs = model_4.predict(x_test)\n",
    "model_4_pred_probs[:10]"
   ]
  },
  {
   "cell_type": "code",
   "execution_count": null,
   "id": "6ee64aad",
   "metadata": {},
   "outputs": [],
   "source": [
    "# Convert prediction probabilities to labels\n",
    "model_4_preds = tf.squeeze(tf.round(model_4_pred_probs))\n",
    "model_4_preds[:10]"
   ]
  },
  {
   "cell_type": "code",
   "execution_count": null,
   "id": "5108afb9",
   "metadata": {},
   "outputs": [],
   "source": [
    "# Calculate bidirectional RNN model results\n",
    "model_4_results = calculate_results(y_test, model_4_preds)\n",
    "model_4_results"
   ]
  },
  {
   "cell_type": "code",
   "execution_count": null,
   "id": "dc33f8cc",
   "metadata": {
    "scrolled": true
   },
   "outputs": [],
   "source": [
    "# Create dataframe with validation sentences and best performing model predictions\n",
    "val_df = pd.DataFrame({\"text\": x_test,\n",
    "\"target\": y_test,\n",
    "\"pred\": model_4_preds,\n",
    "\"pred_prob\": tf.squeeze(model_4_pred_probs)})\n",
    "val_df.tail(20)"
   ]
  },
  {
   "cell_type": "code",
   "execution_count": null,
   "id": "e75abaef",
   "metadata": {},
   "outputs": [],
   "source": [
    "# Find the wrong predictions and sort by prediction probabilities\n",
    "most_wrong = val_df[val_df[\"target\"] != val_df[\"pred\"]].sort_values(\"pred_prob\", ascending=False)\n",
    "most_wrong[:10]"
   ]
  },
  {
   "cell_type": "code",
   "execution_count": null,
   "id": "c7d5b2d0",
   "metadata": {},
   "outputs": [],
   "source": [
    "# Check the false positives (model predicted 1 when should've been 0)\n",
    "for row in most_wrong[:10].itertuples(): # loop through the top 10 rows (change the index to view different rows)\n",
    "    _, text, target, pred, prob = row\n",
    "    print(f\"Target: {target}, Pred: {int(pred)}, Prob: {prob}\")\n",
    "    print(f\"Text:\\n{text}\\n\")\n",
    "    print(\"----\\n\")"
   ]
  },
  {
   "cell_type": "code",
   "execution_count": null,
   "id": "60b71a13",
   "metadata": {},
   "outputs": [],
   "source": [
    "# Check the most wrong false negatives (model predicted 0 when should've predict 1)\n",
    "for row in most_wrong[-10:].itertuples():\n",
    "    _, text, target, pred, prob = row\n",
    "    print(f\"Target: {target}, Pred: {int(pred)}, Prob: {prob}\")\n",
    "    print(f\"Text:\\n{text}\\n\")\n",
    "    print(\"----\\n\")"
   ]
  },
  {
   "cell_type": "code",
   "execution_count": null,
   "id": "560c17cf",
   "metadata": {
    "scrolled": true
   },
   "outputs": [],
   "source": [
    "# Making predictions on the test dataset\n",
    "test_sentences = val_df[\"text\"].to_list()\n",
    "test_samples = random.sample(test_sentences, 10)\n",
    "for test_sample in test_samples:\n",
    "    pred_prob = tf.squeeze(model_4.predict([test_sample])) # has to be list\n",
    "    pred = tf.round(pred_prob)\n",
    "    print(f\"Pred: {int(pred)}, Prob: {pred_prob}\")\n",
    "    print(f\"Text:\\n{test_sample}\\n\")\n",
    "    print(\"----\\n\")"
   ]
  },
  {
   "cell_type": "code",
   "execution_count": null,
   "id": "06050cc9",
   "metadata": {},
   "outputs": [],
   "source": [
    "def predict_on_sentence(model, sentence):\n",
    "    pred_prob = model.predict([sentence])\n",
    "    pred_label = tf.squeeze(tf.round(pred_prob)).numpy()\n",
    "    print(f\"Pred: {pred_label}\", \"(positive)\" if pred_label > 0 else \"(negative)\", f\"Prob: {pred_prob[0][0]}\")\n",
    "    print(f\"Text:\\n{sentence}\")\n",
    "    "
   ]
  },
  {
   "cell_type": "code",
   "execution_count": null,
   "id": "af791f91",
   "metadata": {},
   "outputs": [],
   "source": [
    "tryme=['I hated it','Disappointing product','Nice shoes','Very good']\n",
    "t='Very good I am so happy'\n",
    "t1=''"
   ]
  },
  {
   "cell_type": "code",
   "execution_count": null,
   "id": "44eb7d14",
   "metadata": {},
   "outputs": [],
   "source": [
    "# Make a prediction on a sentence\n",
    "predict_on_sentence(model=model_4,sentence=t1)"
   ]
  },
  {
   "cell_type": "code",
   "execution_count": null,
   "id": "78867133",
   "metadata": {},
   "outputs": [],
   "source": [
    "pred_prob = model_4.predict(tryme)\n",
    "pred_prob"
   ]
  },
  {
   "cell_type": "code",
   "execution_count": null,
   "id": "e863f81b",
   "metadata": {},
   "outputs": [],
   "source": [
    "pred_prob = tf.squeeze(model_4.predict([test_sample]))\n",
    "pred_prob"
   ]
  }
 ],
 "metadata": {
  "kernelspec": {
   "display_name": "Python 3 (ipykernel)",
   "language": "python",
   "name": "python3"
  },
  "language_info": {
   "codemirror_mode": {
    "name": "ipython",
    "version": 3
   },
   "file_extension": ".py",
   "mimetype": "text/x-python",
   "name": "python",
   "nbconvert_exporter": "python",
   "pygments_lexer": "ipython3",
   "version": "3.9.0"
  }
 },
 "nbformat": 4,
 "nbformat_minor": 5
}
